{
 "cells": [
  {
   "cell_type": "markdown",
   "metadata": {},
   "source": [
    "# <center>SMI ADCG routine</center>"
   ]
  },
  {
   "cell_type": "markdown",
   "metadata": {},
   "source": [
    "### Code Dependencies"
   ]
  },
  {
   "cell_type": "markdown",
   "metadata": {},
   "source": [
    "##### Get unzip for data download"
   ]
  },
  {
   "cell_type": "code",
   "execution_count": null,
   "metadata": {},
   "outputs": [],
   "source": [
    "; sudo apt-get install -y unzip"
   ]
  },
  {
   "cell_type": "markdown",
   "metadata": {},
   "source": [
    "##### Necessary Julia Packages"
   ]
  },
  {
   "cell_type": "code",
   "execution_count": null,
   "metadata": {},
   "outputs": [],
   "source": [
    "include(\"Packages.jl\");"
   ]
  },
  {
   "cell_type": "code",
   "execution_count": null,
   "metadata": {},
   "outputs": [
    {
     "name": "stderr",
     "output_type": "stream",
     "text": [
      "WARNING: replacing module SparseInverseProblems.\n",
      "WARNING: using SparseInverseProblems.BoxConstrainedDifferentiableModel in module Main conflicts with an existing identifier.\n",
      "WARNING: using SparseInverseProblems.phi in module Main conflicts with an existing identifier.\n",
      "WARNING: using SparseInverseProblems.localDescent in module Main conflicts with an existing identifier.\n",
      "WARNING: using SparseInverseProblems.solveFiniteDimProblem in module Main conflicts with an existing identifier.\n",
      "WARNING: using SparseInverseProblems.lmo in module Main conflicts with an existing identifier.\n",
      "WARNING: using SparseInverseProblems.LSLoss in module Main conflicts with an existing identifier.\n",
      "WARNING: ignoring conflicting import of SparseInverseProblems.lmo into Main\n",
      "WARNING: ignoring conflicting import of SparseInverseProblems.phi into Main\n",
      "WARNING: ignoring conflicting import of SparseInverseProblems.solveFiniteDimProblem into Main\n",
      "WARNING: ignoring conflicting import of SparseInverseProblems.localDescent into Main\n",
      "WARNING: ignoring conflicting import of SparseInverseProblems.getStartingPoint into Main\n",
      "WARNING: ignoring conflicting import of SparseInverseProblems.parameterBounds into Main\n",
      "WARNING: ignoring conflicting import of SparseInverseProblems.computeGradient into Main\n",
      "┌ Info: Precompiling Images [916415d5-f1e6-5110-898d-aaa5f9f070e0]\n",
      "└ @ Base loading.jl:1273\n"
     ]
    }
   ],
   "source": [
    "include(\"../examples/smi/run.jl\")"
   ]
  }
 ],
 "metadata": {
  "kernelspec": {
   "display_name": "Julia 1.3.1",
   "language": "julia",
   "name": "julia-1.3"
  },
  "language_info": {
   "file_extension": ".jl",
   "mimetype": "application/julia",
   "name": "julia",
   "version": "1.3.1"
  }
 },
 "nbformat": 4,
 "nbformat_minor": 4
}
